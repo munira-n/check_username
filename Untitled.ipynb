{
 "cells": [
  {
   "cell_type": "code",
   "execution_count": 1,
   "id": "24aad059",
   "metadata": {},
   "outputs": [
    {
     "name": "stdout",
     "output_type": "stream",
     "text": [
      "The username \"Kate\" is available\n",
      "The username \"Joe\" is already taken\n",
      "The username \"Kerri\" is already taken\n",
      "The username \"George\" is available\n",
      "The username \"William\" is available\n"
     ]
    }
   ],
   "source": [
    "new_users = ['Kate','Joe','Kerri', 'George', 'William']\n",
    "current_users = ['Jhon','Joe','Kerri', 'Mike', 'Nicolas']\n",
    "\n",
    "for new_user in new_users:\n",
    "    if new_user in current_users:\n",
    "        print(\"The username \" + \"\\\"\" + new_user + \"\\\"\" + \" is already taken\")\n",
    "    else:\n",
    "        print(\"The username \" + \"\\\"\" + new_user + \"\\\"\" + \" is available\")"
   ]
  },
  {
   "cell_type": "code",
   "execution_count": null,
   "id": "3f0c1a99",
   "metadata": {},
   "outputs": [],
   "source": []
  }
 ],
 "metadata": {
  "kernelspec": {
   "display_name": "Python 3",
   "language": "python",
   "name": "python3"
  },
  "language_info": {
   "codemirror_mode": {
    "name": "ipython",
    "version": 3
   },
   "file_extension": ".py",
   "mimetype": "text/x-python",
   "name": "python",
   "nbconvert_exporter": "python",
   "pygments_lexer": "ipython3",
   "version": "3.8.8"
  }
 },
 "nbformat": 4,
 "nbformat_minor": 5
}
